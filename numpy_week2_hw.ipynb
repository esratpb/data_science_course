{
 "cells": [
  {
   "cell_type": "markdown",
   "metadata": {},
   "source": [
    "soru2"
   ]
  },
  {
   "cell_type": "code",
   "execution_count": 1,
   "metadata": {},
   "outputs": [
    {
     "data": {
      "text/plain": [
       "array([ 2,  5,  6,  1,  6,  8,  9, 12, 45, 65])"
      ]
     },
     "execution_count": 1,
     "metadata": {},
     "output_type": "execute_result"
    }
   ],
   "source": [
    "import numpy as np\n",
    "liste=[2,5,6,1,6,8,9,12,45,65]\n",
    "array_list=np.array(liste)\n",
    "array_list"
   ]
  },
  {
   "cell_type": "markdown",
   "metadata": {},
   "source": [
    "soru3"
   ]
  },
  {
   "cell_type": "code",
   "execution_count": 2,
   "metadata": {},
   "outputs": [
    {
     "data": {
      "text/plain": [
       "array([[0, 0, 0, 0, 0, 0, 0, 0, 0, 0],\n",
       "       [0, 0, 0, 0, 0, 0, 0, 0, 0, 0],\n",
       "       [0, 0, 0, 0, 0, 0, 0, 0, 0, 0],\n",
       "       [0, 0, 0, 0, 0, 0, 0, 0, 0, 0],\n",
       "       [0, 0, 0, 0, 0, 0, 0, 0, 0, 0],\n",
       "       [0, 0, 0, 0, 0, 0, 0, 0, 0, 0],\n",
       "       [0, 0, 0, 0, 0, 0, 0, 0, 0, 0],\n",
       "       [0, 0, 0, 0, 0, 0, 0, 0, 0, 0],\n",
       "       [0, 0, 0, 0, 0, 0, 0, 0, 0, 0],\n",
       "       [0, 0, 0, 0, 0, 0, 0, 0, 0, 0]])"
      ]
     },
     "execution_count": 2,
     "metadata": {},
     "output_type": "execute_result"
    }
   ],
   "source": [
    "np.zeros((10,10),dtype=\"int32\")"
   ]
  },
  {
   "cell_type": "markdown",
   "metadata": {},
   "source": [
    "soru4"
   ]
  },
  {
   "cell_type": "code",
   "execution_count": 3,
   "metadata": {},
   "outputs": [
    {
     "data": {
      "text/plain": [
       "array([[1., 1., 1., 1., 1., 1., 1., 1., 1., 1.],\n",
       "       [1., 1., 1., 1., 1., 1., 1., 1., 1., 1.],\n",
       "       [1., 1., 1., 1., 1., 1., 1., 1., 1., 1.],\n",
       "       [1., 1., 1., 1., 1., 1., 1., 1., 1., 1.],\n",
       "       [1., 1., 1., 1., 1., 1., 1., 1., 1., 1.],\n",
       "       [1., 1., 1., 1., 1., 1., 1., 1., 1., 1.],\n",
       "       [1., 1., 1., 1., 1., 1., 1., 1., 1., 1.],\n",
       "       [1., 1., 1., 1., 1., 1., 1., 1., 1., 1.],\n",
       "       [1., 1., 1., 1., 1., 1., 1., 1., 1., 1.],\n",
       "       [1., 1., 1., 1., 1., 1., 1., 1., 1., 1.]], dtype=float32)"
      ]
     },
     "execution_count": 3,
     "metadata": {},
     "output_type": "execute_result"
    }
   ],
   "source": [
    "np.ones((10,10),dtype=\"float32\")"
   ]
  },
  {
   "cell_type": "markdown",
   "metadata": {},
   "source": [
    "soru5"
   ]
  },
  {
   "cell_type": "code",
   "execution_count": 4,
   "metadata": {},
   "outputs": [
    {
     "data": {
      "text/plain": [
       "array([[9, 9, 9, 9, 9, 9, 9, 9, 9, 9],\n",
       "       [9, 9, 9, 9, 9, 9, 9, 9, 9, 9],\n",
       "       [9, 9, 9, 9, 9, 9, 9, 9, 9, 9],\n",
       "       [9, 9, 9, 9, 9, 9, 9, 9, 9, 9],\n",
       "       [9, 9, 9, 9, 9, 9, 9, 9, 9, 9],\n",
       "       [9, 9, 9, 9, 9, 9, 9, 9, 9, 9],\n",
       "       [9, 9, 9, 9, 9, 9, 9, 9, 9, 9],\n",
       "       [9, 9, 9, 9, 9, 9, 9, 9, 9, 9],\n",
       "       [9, 9, 9, 9, 9, 9, 9, 9, 9, 9],\n",
       "       [9, 9, 9, 9, 9, 9, 9, 9, 9, 9]])"
      ]
     },
     "execution_count": 4,
     "metadata": {},
     "output_type": "execute_result"
    }
   ],
   "source": [
    "np.full((10,10),9,dtype=\"int32\")"
   ]
  },
  {
   "cell_type": "markdown",
   "metadata": {},
   "source": [
    "soru6"
   ]
  },
  {
   "cell_type": "code",
   "execution_count": 5,
   "metadata": {},
   "outputs": [
    {
     "data": {
      "text/plain": [
       "array([ 5,  8, 11, 14, 17, 20, 23])"
      ]
     },
     "execution_count": 5,
     "metadata": {},
     "output_type": "execute_result"
    }
   ],
   "source": [
    "np.arange(5,25,3)"
   ]
  },
  {
   "cell_type": "markdown",
   "metadata": {},
   "source": [
    " soru7"
   ]
  },
  {
   "cell_type": "code",
   "execution_count": 6,
   "metadata": {},
   "outputs": [
    {
     "data": {
      "text/plain": [
       "array([-1.        , -0.93103448, -0.86206897, -0.79310345, -0.72413793,\n",
       "       -0.65517241, -0.5862069 , -0.51724138, -0.44827586, -0.37931034,\n",
       "       -0.31034483, -0.24137931, -0.17241379, -0.10344828, -0.03448276,\n",
       "        0.03448276,  0.10344828,  0.17241379,  0.24137931,  0.31034483,\n",
       "        0.37931034,  0.44827586,  0.51724138,  0.5862069 ,  0.65517241,\n",
       "        0.72413793,  0.79310345,  0.86206897,  0.93103448,  1.        ])"
      ]
     },
     "execution_count": 6,
     "metadata": {},
     "output_type": "execute_result"
    }
   ],
   "source": [
    "np.linspace(-1,1,30)"
   ]
  },
  {
   "cell_type": "markdown",
   "metadata": {},
   "source": [
    "soru8"
   ]
  },
  {
   "cell_type": "code",
   "execution_count": 7,
   "metadata": {},
   "outputs": [
    {
     "data": {
      "text/plain": [
       "array([[15, 19, 15, 20,  2, 22],\n",
       "       [18, 14,  7, 28,  5, 26],\n",
       "       [24, 15, 13,  1,  1, 25],\n",
       "       [ 2, 21, 12, 23,  8,  2],\n",
       "       [15, 28, 29, 28, 22,  1]])"
      ]
     },
     "execution_count": 7,
     "metadata": {},
     "output_type": "execute_result"
    }
   ],
   "source": [
    "np.random.randint(0,30,(5,6))"
   ]
  },
  {
   "cell_type": "markdown",
   "metadata": {},
   "source": [
    "soru9"
   ]
  },
  {
   "cell_type": "code",
   "execution_count": 8,
   "metadata": {},
   "outputs": [
    {
     "data": {
      "text/plain": [
       "array([[1., 0., 0., 0., 0., 0., 0., 0., 0., 0.],\n",
       "       [0., 1., 0., 0., 0., 0., 0., 0., 0., 0.],\n",
       "       [0., 0., 1., 0., 0., 0., 0., 0., 0., 0.],\n",
       "       [0., 0., 0., 1., 0., 0., 0., 0., 0., 0.],\n",
       "       [0., 0., 0., 0., 1., 0., 0., 0., 0., 0.],\n",
       "       [0., 0., 0., 0., 0., 1., 0., 0., 0., 0.],\n",
       "       [0., 0., 0., 0., 0., 0., 1., 0., 0., 0.],\n",
       "       [0., 0., 0., 0., 0., 0., 0., 1., 0., 0.],\n",
       "       [0., 0., 0., 0., 0., 0., 0., 0., 1., 0.],\n",
       "       [0., 0., 0., 0., 0., 0., 0., 0., 0., 1.]])"
      ]
     },
     "execution_count": 8,
     "metadata": {},
     "output_type": "execute_result"
    }
   ],
   "source": [
    "np.eye(10)"
   ]
  },
  {
   "cell_type": "markdown",
   "metadata": {},
   "source": [
    "soru10"
   ]
  },
  {
   "cell_type": "code",
   "execution_count": 9,
   "metadata": {},
   "outputs": [
    {
     "name": "stdout",
     "output_type": "stream",
     "text": [
      "[[1 5 1 0 8 5 0 6 3 8]\n",
      " [2 6 3 5 7 4 4 7 7 2]\n",
      " [4 2 2 9 2 2 0 7 5 8]\n",
      " [2 2 3 0 9 2 5 4 6 3]\n",
      " [2 2 0 7 4 9 0 7 1 5]]\n",
      "eleman sayisi: 50\n",
      "boyut sayisi: 2\n",
      "matris tipi (5, 10)\n",
      "int32\n"
     ]
    }
   ],
   "source": [
    "a=np.random.randint(0,10,size=(5,10))\n",
    "print(a)\n",
    "print(\"eleman sayisi:\",a.size)\n",
    "print(\"boyut sayisi:\",a.ndim)\n",
    "print(\"matris tipi\",a.shape)\n",
    "print(a.dtype)"
   ]
  },
  {
   "cell_type": "markdown",
   "metadata": {},
   "source": [
    "soru11"
   ]
  },
  {
   "cell_type": "code",
   "execution_count": 10,
   "metadata": {},
   "outputs": [
    {
     "data": {
      "text/plain": [
       "array([[[6, 3, 9, 1, 0, 9, 4],\n",
       "        [6, 5, 7, 8, 7, 5, 5],\n",
       "        [5, 1, 1, 0, 2, 0, 5],\n",
       "        [9, 1, 0, 4, 3, 0, 4]],\n",
       "\n",
       "       [[9, 8, 6, 0, 8, 9, 7],\n",
       "        [3, 3, 0, 4, 0, 9, 8],\n",
       "        [4, 7, 9, 7, 2, 8, 1],\n",
       "        [6, 7, 8, 5, 2, 8, 7]],\n",
       "\n",
       "       [[8, 6, 9, 8, 4, 5, 8],\n",
       "        [4, 6, 4, 2, 7, 0, 0],\n",
       "        [2, 8, 2, 3, 7, 7, 7],\n",
       "        [6, 3, 9, 4, 4, 1, 7]]])"
      ]
     },
     "execution_count": 10,
     "metadata": {},
     "output_type": "execute_result"
    }
   ],
   "source": [
    "np.random.randint(0,10,size=(3,4,7))"
   ]
  },
  {
   "cell_type": "markdown",
   "metadata": {},
   "source": [
    "soru12"
   ]
  },
  {
   "cell_type": "code",
   "execution_count": 11,
   "metadata": {},
   "outputs": [
    {
     "name": "stdout",
     "output_type": "stream",
     "text": [
      "[ 2  4  5 12 54  9  0 23 67 45]\n",
      "[[ 2  4  5 12 54]\n",
      " [ 9  0 23 67 45]]\n",
      "[[ 2  4  5 12 54  9  0 23 67 45]]\n"
     ]
    }
   ],
   "source": [
    "a=np.array([2,4,5,12,54,9,0,23,67,45])\n",
    "array_1=a.reshape(2,5)\n",
    "array_2=a.reshape(1,10)\n",
    "print(a)          #orjinal array (vektor)\n",
    "print(array_1)   #(2x5) lik matris tipi\n",
    "print(array_2)   #(1x10) luk matris"
   ]
  },
  {
   "cell_type": "markdown",
   "metadata": {},
   "source": [
    "soru13"
   ]
  },
  {
   "cell_type": "code",
   "execution_count": 12,
   "metadata": {},
   "outputs": [
    {
     "name": "stdout",
     "output_type": "stream",
     "text": [
      "[5 6 6 0 2 6 3 8 6 7 7 4 3 1 8 6 7 7 4 3 1 1 1 2 3 2 8 5]\n",
      "########\n",
      "[[5 1 2 7 4 4]\n",
      " [9 9 9 8 3 6]\n",
      " [9 9 9 8 3 6]\n",
      " [9 0 7 7 2 6]]\n"
     ]
    }
   ],
   "source": [
    "list_of_array=[]   #arrayleri bir listede toplasak\n",
    "for i in range(4):\n",
    "    a=np.random.randint(0,10,7,dtype=\"int32\")    #vektor tipinde bir array\n",
    "    list_of_array.append(a)\n",
    "sonuc=np.concatenate([list_of_array[0],list_of_array[2],list_of_array[2],list_of_array[3]])\n",
    "print(sonuc)\n",
    "\n",
    "#####eger (1xn) tipinde bir matris olsaydi birlesimine bakalim\n",
    "print(\"########\")\n",
    "\n",
    "list_of_array=[]   #arrayleri bir listede toplasak\n",
    "for i in range(4):\n",
    "    a=np.random.randint(0,10,size=(1,6),dtype=\"int32\")    #(1x6) tipinde bir matris array\n",
    "    list_of_array.append(a)\n",
    "sonuc_2=np.concatenate([list_of_array[0],list_of_array[2],list_of_array[2],list_of_array[3]])\n",
    "print(sonuc_2)"
   ]
  },
  {
   "cell_type": "markdown",
   "metadata": {},
   "source": [
    "soru14"
   ]
  },
  {
   "cell_type": "code",
   "execution_count": 13,
   "metadata": {},
   "outputs": [
    {
     "name": "stdout",
     "output_type": "stream",
     "text": [
      "[[1 6 5]\n",
      " [1 2 9]\n",
      " [2 4 5]\n",
      " [9 6 5]]\n",
      "####\n",
      "[[1 6 5]\n",
      " [1 2 9]\n",
      " [2 4 5]\n",
      " [9 6 5]]\n",
      "####\n",
      "[[1 6 5 2 4 5]\n",
      " [1 2 9 9 6 5]]\n"
     ]
    }
   ],
   "source": [
    "a=np.array([1,6,5,1,2,9])\n",
    "b=np.array([2,4,5,9,6,5])\n",
    "a=a.reshape(2,3)\n",
    "b=b.reshape(2,3)\n",
    "\n",
    "print(np.concatenate([a,b]))   #default axis=0 satirlar halinde birlestiriyor\n",
    "print(\"####\")\n",
    "print(np.concatenate([a,b],axis=0))  #axis=0 satirlar halinde birlestiriyor\n",
    "print(\"####\")\n",
    "print(np.concatenate([a,b],axis=1))   #sutunlar halinde birlestiriyor"
   ]
  },
  {
   "cell_type": "markdown",
   "metadata": {},
   "source": [
    "soru15"
   ]
  },
  {
   "cell_type": "markdown",
   "metadata": {},
   "source": [
    "axis=0 satir anlatiyor axis=1 sutun anlatiyor"
   ]
  },
  {
   "cell_type": "markdown",
   "metadata": {},
   "source": [
    "soru16"
   ]
  },
  {
   "cell_type": "code",
   "execution_count": 14,
   "metadata": {},
   "outputs": [
    {
     "name": "stdout",
     "output_type": "stream",
     "text": [
      "[[3 3 3 2 1 3 7 6 6 5]\n",
      " [3 3 1 2 1 1 7 5 7 5]\n",
      " [1 2 3 1 1 3 7 6 5 5]]\n"
     ]
    }
   ],
   "source": [
    "a=np.random.randint(1,4,(3,6),dtype=\"int32\")\n",
    "b=np.random.randint(5,8,(3,4),dtype=\"int32\")\n",
    "print(np.concatenate([a,b],axis=1)) #satir sayisi ayni oldugu icin yan yana yani sutunlar olarak birlestirdik axis=1"
   ]
  },
  {
   "cell_type": "code",
   "execution_count": 15,
   "metadata": {},
   "outputs": [
    {
     "name": "stdout",
     "output_type": "stream",
     "text": [
      "[[2 1 2 2 3 1]\n",
      " [3 2 2 1 2 1]\n",
      " [2 1 3 2 2 1]\n",
      " [5 7 6 5 6 5]\n",
      " [6 7 5 7 7 6]\n",
      " [7 7 7 7 7 5]\n",
      " [6 7 7 6 5 6]\n",
      " [6 7 7 6 7 5]]\n"
     ]
    }
   ],
   "source": [
    "a=np.random.randint(1,4,(3,6),dtype=\"int32\")\n",
    "b=np.random.randint(5,8,(5,6),dtype=\"int32\")\n",
    "print(np.concatenate([a,b],axis=0)) #sutun sayisi ayni oldugu icin alt alta yani sutunlar olarak birlestirdik axis=0"
   ]
  },
  {
   "cell_type": "markdown",
   "metadata": {},
   "source": [
    "soru17\n",
    "10 elemanli bi liste olusturunuz ve bu listeyi Numpy metodlariyla bolerek(split) 4 ayri array olusturunuz."
   ]
  },
  {
   "cell_type": "code",
   "execution_count": 16,
   "metadata": {},
   "outputs": [
    {
     "data": {
      "text/plain": [
       "[array([1, 2]), array([3, 4, 5]), array([6, 7]), array([ 8,  9, 10])]"
      ]
     },
     "execution_count": 16,
     "metadata": {},
     "output_type": "execute_result"
    }
   ],
   "source": [
    "a=[1,2,3,4,5,6,7,8,9,10]\n",
    "array=np.split(a,[2,5,7])\n",
    "array"
   ]
  },
  {
   "cell_type": "markdown",
   "metadata": {},
   "source": [
    "soru18"
   ]
  },
  {
   "cell_type": "markdown",
   "metadata": {},
   "source": [
    "Random bir array olusturunuz ve bu arrayi buyukten kucuge dogru siralayiniz.Ve bu siralamadan sonra hangi elemanin hangi indexte oldugunu gosteren bir metod uygulayiniz."
   ]
  },
  {
   "cell_type": "code",
   "execution_count": 17,
   "metadata": {},
   "outputs": [
    {
     "name": "stdout",
     "output_type": "stream",
     "text": [
      "[16 20 25  2  9 13  3 10 11 24  1 16]\n",
      "[ 1  2  3  9 10 11 13 16 16 20 24 25]\n",
      "[10  3  6  4  7  8  5  0 11  1  9  2]\n"
     ]
    }
   ],
   "source": [
    "array1=np.random.randint(1,26,12,dtype=\"int32\")\n",
    "array2=np.sort(array1)\n",
    "print(array1)\n",
    "print(array2)\n",
    "nerede=np.argsort(array1)\n",
    "print(nerede)"
   ]
  },
  {
   "cell_type": "markdown",
   "metadata": {},
   "source": [
    "soru19"
   ]
  },
  {
   "cell_type": "markdown",
   "metadata": {},
   "source": [
    "20 elemanli random bir vektor olusturunuz. Bu vektorun 3. 5. ve 7. elemanlarina ulasin."
   ]
  },
  {
   "cell_type": "code",
   "execution_count": 18,
   "metadata": {},
   "outputs": [
    {
     "name": "stdout",
     "output_type": "stream",
     "text": [
      "[16 24  5 34  3 34 34 35 15 36 18  4 15  5 24 14 24  3 15  8]\n",
      "34\n",
      "34\n",
      "35\n"
     ]
    }
   ],
   "source": [
    "arry=np.random.randint(1,37,20,dtype=\"int32\")\n",
    "print(arry)\n",
    "print(arry[3])\n",
    "print(arry[5])\n",
    "print(arry[7])"
   ]
  },
  {
   "cell_type": "markdown",
   "metadata": {},
   "source": [
    "soru20"
   ]
  },
  {
   "cell_type": "markdown",
   "metadata": {},
   "source": [
    "10 elemanli random bir vektor olusturunuz ve bu arrayin4. elemanini farkli bir sayiyla degistiriniz"
   ]
  },
  {
   "cell_type": "code",
   "execution_count": 19,
   "metadata": {},
   "outputs": [
    {
     "name": "stdout",
     "output_type": "stream",
     "text": [
      "[16 22 29 34 15 34  8  9 21 15]\n",
      "[16 22 29 34 77 34  8  9 21 15]\n"
     ]
    }
   ],
   "source": [
    "arry=np.random.randint(1,37,10,dtype=\"int32\")\n",
    "print(arry)\n",
    "arry[4]=77\n",
    "print(arry)"
   ]
  },
  {
   "cell_type": "markdown",
   "metadata": {},
   "source": [
    "soru21"
   ]
  },
  {
   "cell_type": "markdown",
   "metadata": {},
   "source": [
    "“Diagonal Matrix” ve “Trace Matrix”kavramlari hakkinda kucuk bir arastirma yapip bunlarin ne oldugunu belirten kucuk bir aciklama yaziniz."
   ]
  },
  {
   "cell_type": "markdown",
   "metadata": {},
   "source": [
    "diagonal matris:asal köşegen üzerindeki elemanların dışında kalan tüm elemanlar sıfır ise "
   ]
  },
  {
   "cell_type": "markdown",
   "metadata": {},
   "source": [
    "trace matrix:(matrisin izi) bir kare matrisin köşegen üzerindeki elemanlarının toplamıdır. "
   ]
  },
  {
   "cell_type": "markdown",
   "metadata": {},
   "source": [
    "soru 22"
   ]
  },
  {
   "cell_type": "markdown",
   "metadata": {},
   "source": [
    "5x5’lik Diagonal bir matris olusturunuz ve Diagonaline denk gelen indexlere ulasiniz.(ayri ayri)"
   ]
  },
  {
   "cell_type": "code",
   "execution_count": 20,
   "metadata": {},
   "outputs": [],
   "source": [
    "arry=np.random.randint(1,20,size=(5,5),dtype=\"int32\")"
   ]
  },
  {
   "cell_type": "code",
   "execution_count": 21,
   "metadata": {},
   "outputs": [
    {
     "data": {
      "text/plain": [
       "array([[ 3, 12, 16, 13,  6],\n",
       "       [15, 12,  1, 10,  2],\n",
       "       [ 4,  3,  9,  1,  3],\n",
       "       [11, 14, 17, 15, 18],\n",
       "       [11,  7, 18,  6, 10]])"
      ]
     },
     "execution_count": 21,
     "metadata": {},
     "output_type": "execute_result"
    }
   ],
   "source": [
    "arry"
   ]
  },
  {
   "cell_type": "code",
   "execution_count": 22,
   "metadata": {},
   "outputs": [
    {
     "name": "stdout",
     "output_type": "stream",
     "text": [
      "3\n",
      "12\n",
      "9\n",
      "15\n",
      "10\n"
     ]
    }
   ],
   "source": [
    "for i in range(5):\n",
    "    print(arry[i][i])"
   ]
  },
  {
   "cell_type": "markdown",
   "metadata": {},
   "source": [
    "soru 23:10 ile 20 arasinda bir vektor olusturunuz. Ve 3. indexten son indexe kadar olan degerleri yazdiriniz."
   ]
  },
  {
   "cell_type": "code",
   "execution_count": 23,
   "metadata": {},
   "outputs": [
    {
     "name": "stdout",
     "output_type": "stream",
     "text": [
      "[5 6 6 5 4 5 6 8 2 5 3 4 2 8 7]\n"
     ]
    },
    {
     "data": {
      "text/plain": [
       "array([5, 4, 5, 6, 8, 2, 5, 3, 4, 2, 8, 7])"
      ]
     },
     "execution_count": 23,
     "metadata": {},
     "output_type": "execute_result"
    }
   ],
   "source": [
    "arry=np.random.randint(1,9,15,dtype=\"int32\")\n",
    "print(arry)\n",
    "arry[3:]"
   ]
  },
  {
   "cell_type": "markdown",
   "metadata": {},
   "source": [
    "soru 24: 10X10 luk bir matris olusturunuz ve ;.3.satir ve 5.sutuna ulasiniz."
   ]
  },
  {
   "cell_type": "code",
   "execution_count": 24,
   "metadata": {},
   "outputs": [
    {
     "name": "stdout",
     "output_type": "stream",
     "text": [
      "[[5 7 7 4 0 6 1 0 3 7]\n",
      " [7 3 1 0 2 1 0 3 1 1]\n",
      " [7 3 0 0 7 6 1 0 5 6]\n",
      " [2 4 6 7 7 2 5 1 2 2]\n",
      " [3 5 5 3 1 2 6 7 3 3]\n",
      " [6 4 2 4 2 3 4 5 6 4]\n",
      " [1 0 4 7 1 4 2 1 5 0]\n",
      " [0 2 3 3 3 5 7 4 0 6]\n",
      " [6 7 2 3 1 4 3 3 0 7]\n",
      " [1 5 6 2 3 0 1 6 7 7]]\n",
      "[2 4 6 7 7 2 5 1 2 2]\n",
      "[6 4 2 4 2 3 4 5 6 4]\n"
     ]
    }
   ],
   "source": [
    "arry=np.random.randint(0,8,size=(10,10),dtype=\"int32\")\n",
    "print(arry)\n",
    "print(arry[3])\n",
    "print(arry[5])"
   ]
  },
  {
   "cell_type": "markdown",
   "metadata": {},
   "source": [
    "24a : 5.sutunun tum satirlarina ulasiniz."
   ]
  },
  {
   "cell_type": "code",
   "execution_count": 25,
   "metadata": {},
   "outputs": [
    {
     "data": {
      "text/plain": [
       "array([6, 1, 6, 2, 2, 3, 4, 5, 4, 0])"
      ]
     },
     "execution_count": 25,
     "metadata": {},
     "output_type": "execute_result"
    }
   ],
   "source": [
    "arry[:,5]"
   ]
  },
  {
   "cell_type": "markdown",
   "metadata": {},
   "source": [
    "b: Tum sutunlarin2.satirlarina ulasiniz."
   ]
  },
  {
   "cell_type": "code",
   "execution_count": 26,
   "metadata": {},
   "outputs": [
    {
     "name": "stdout",
     "output_type": "stream",
     "text": [
      "[7 3 0 0 7 6 1 0 5 6]\n",
      "[7 3 0 0 7 6 1 0 5 6]\n"
     ]
    }
   ],
   "source": [
    "print(arry[2])\n",
    "print(arry[2,:])\n"
   ]
  },
  {
   "cell_type": "markdown",
   "metadata": {},
   "source": [
    "24c: tum sutunlarin 2 ile 7 arasindaki satirlarina ulasiniz"
   ]
  },
  {
   "cell_type": "code",
   "execution_count": 27,
   "metadata": {},
   "outputs": [
    {
     "data": {
      "text/plain": [
       "array([[7, 3, 0, 0, 7, 6, 1, 0, 5, 6],\n",
       "       [2, 4, 6, 7, 7, 2, 5, 1, 2, 2],\n",
       "       [3, 5, 5, 3, 1, 2, 6, 7, 3, 3],\n",
       "       [6, 4, 2, 4, 2, 3, 4, 5, 6, 4],\n",
       "       [1, 0, 4, 7, 1, 4, 2, 1, 5, 0]])"
      ]
     },
     "execution_count": 27,
     "metadata": {},
     "output_type": "execute_result"
    }
   ],
   "source": [
    "arry[2:7]"
   ]
  },
  {
   "cell_type": "markdown",
   "metadata": {},
   "source": [
    "24d : satir indexi 2’den 5’e ve sutun indexi 3 den 7’ye kadar olan degerlere ulasiniz"
   ]
  },
  {
   "cell_type": "code",
   "execution_count": 28,
   "metadata": {},
   "outputs": [
    {
     "data": {
      "text/plain": [
       "array([[0, 7, 6, 1],\n",
       "       [7, 7, 2, 5],\n",
       "       [3, 1, 2, 6]])"
      ]
     },
     "execution_count": 28,
     "metadata": {},
     "output_type": "execute_result"
    }
   ],
   "source": [
    "arry[2:5,3:7]"
   ]
  },
  {
   "cell_type": "markdown",
   "metadata": {},
   "source": [
    "24e : satir indexi 5’den en sona ve sutun indexi en bastan 4’e kadar olan degerlere ulasiniz"
   ]
  },
  {
   "cell_type": "code",
   "execution_count": 29,
   "metadata": {
    "scrolled": true
   },
   "outputs": [
    {
     "data": {
      "text/plain": [
       "array([[6, 4, 2, 4],\n",
       "       [1, 0, 4, 7],\n",
       "       [0, 2, 3, 3],\n",
       "       [6, 7, 2, 3],\n",
       "       [1, 5, 6, 2]])"
      ]
     },
     "execution_count": 29,
     "metadata": {},
     "output_type": "execute_result"
    }
   ],
   "source": [
    "arry[5:,:4]"
   ]
  },
  {
   "cell_type": "markdown",
   "metadata": {},
   "source": [
    "24 f : sutun indexi sadece 3, 6,9 olan kolonlarin(sutunlarin), tum satirlarina ulasiniz."
   ]
  },
  {
   "cell_type": "code",
   "execution_count": 30,
   "metadata": {},
   "outputs": [
    {
     "data": {
      "text/plain": [
       "array([[4, 1, 7],\n",
       "       [0, 0, 1],\n",
       "       [0, 1, 6],\n",
       "       [7, 5, 2],\n",
       "       [3, 6, 3],\n",
       "       [4, 4, 4],\n",
       "       [7, 2, 0],\n",
       "       [3, 7, 6],\n",
       "       [3, 3, 7],\n",
       "       [2, 1, 7]])"
      ]
     },
     "execution_count": 30,
     "metadata": {},
     "output_type": "execute_result"
    }
   ],
   "source": [
    "arry[:,3:10:3]"
   ]
  },
  {
   "cell_type": "markdown",
   "metadata": {},
   "source": [
    "24 g : 5. indexli satir ve 5.indexli sutuna denk gelen degeri, dogum yilinizla degistiriniz"
   ]
  },
  {
   "cell_type": "code",
   "execution_count": 31,
   "metadata": {},
   "outputs": [
    {
     "name": "stdout",
     "output_type": "stream",
     "text": [
      "[[   5    7    7    4    0    6    1    0    3    7]\n",
      " [   7    3    1    0    2    1    0    3    1    1]\n",
      " [   7    3    0    0    7    6    1    0    5    6]\n",
      " [   2    4    6    7    7    2    5    1    2    2]\n",
      " [   3    5    5    3    1    2    6    7    3    3]\n",
      " [   6    4    2    4    2 1986    4    5    6    4]\n",
      " [   1    0    4    7    1    4    2    1    5    0]\n",
      " [   0    2    3    3    3    5    7    4    0    6]\n",
      " [   6    7    2    3    1    4    3    3    0    7]\n",
      " [   1    5    6    2    3    0    1    6    7    7]]\n"
     ]
    }
   ],
   "source": [
    "arry[5][5]=1986\n",
    "print(arry)"
   ]
  },
  {
   "cell_type": "markdown",
   "metadata": {},
   "source": [
    "soru 25: 0’dan 50’ye kadar 5’er 5’er atlayarak giden bir array olusturunuz(tek boyutlu) ve numpy metodlariyla asagidaki islemleri uygulayin"
   ]
  },
  {
   "cell_type": "code",
   "execution_count": 35,
   "metadata": {},
   "outputs": [
    {
     "data": {
      "text/plain": [
       "array([[ 0,  5, 10, 15, 20, 25, 30, 35, 40, 45]])"
      ]
     },
     "execution_count": 35,
     "metadata": {},
     "output_type": "execute_result"
    }
   ],
   "source": [
    "arry=np.arange(0,50,5,dtype=\"int32\")\n",
    "matrs=arry.reshape(1,10)\n",
    "matrs"
   ]
  },
  {
   "cell_type": "markdown",
   "metadata": {},
   "source": [
    ".20 den buyuk olan kac deger var.\n",
    "a.30’dan kucuk kac deger var\n",
    "b.icerisinde 33 gecen kac deger var"
   ]
  },
  {
   "cell_type": "code",
   "execution_count": 36,
   "metadata": {},
   "outputs": [
    {
     "data": {
      "text/plain": [
       "5"
      ]
     },
     "execution_count": 36,
     "metadata": {},
     "output_type": "execute_result"
    }
   ],
   "source": [
    "a=np.sum(matrs>20)\n",
    "a"
   ]
  },
  {
   "cell_type": "code",
   "execution_count": 37,
   "metadata": {},
   "outputs": [
    {
     "data": {
      "text/plain": [
       "6"
      ]
     },
     "execution_count": 37,
     "metadata": {},
     "output_type": "execute_result"
    }
   ],
   "source": [
    "k=np.sum(matrs<30)\n",
    "k"
   ]
  },
  {
   "cell_type": "code",
   "execution_count": 38,
   "metadata": {},
   "outputs": [
    {
     "data": {
      "text/plain": [
       "0"
      ]
     },
     "execution_count": 38,
     "metadata": {},
     "output_type": "execute_result"
    }
   ],
   "source": [
    "e=np.sum(matrs==33)\n",
    "e"
   ]
  },
  {
   "cell_type": "markdown",
   "metadata": {},
   "source": [
    "c.olusturulan arrayin tum elemanlarini 5 ile carpin.d.olusturulan arrayin tum elemanlarinin 2 ile bolumunden kalanlari yazdiriniz.e.olustural arrayin icerisinde, sadece sutunlara bakarak her bir sutunu toplayin ve toplami 30 dan buyuk kac sutun varf.olustural arrayin icerisinde, sadece satirlara bakarak her bir satiri toplayin ve toplami 30 dan buyuk kac satir var"
   ]
  },
  {
   "cell_type": "code",
   "execution_count": 40,
   "metadata": {},
   "outputs": [
    {
     "data": {
      "text/plain": [
       "array([[  0,  25,  50,  75, 100, 125, 150, 175, 200, 225]])"
      ]
     },
     "execution_count": 40,
     "metadata": {},
     "output_type": "execute_result"
    }
   ],
   "source": [
    "matrs*5"
   ]
  },
  {
   "cell_type": "code",
   "execution_count": 41,
   "metadata": {},
   "outputs": [
    {
     "data": {
      "text/plain": [
       "array([[0, 1, 0, 1, 0, 1, 0, 1, 0, 1]], dtype=int32)"
      ]
     },
     "execution_count": 41,
     "metadata": {},
     "output_type": "execute_result"
    }
   ],
   "source": [
    "matrs%2"
   ]
  },
  {
   "cell_type": "code",
   "execution_count": 62,
   "metadata": {},
   "outputs": [
    {
     "data": {
      "text/plain": [
       "array([[ 0,  5, 10, 15, 20, 25, 30, 35, 40, 45]], dtype=int32)"
      ]
     },
     "execution_count": 62,
     "metadata": {},
     "output_type": "execute_result"
    }
   ],
   "source": [
    "\n",
    "np.add.accumulate(matrs)"
   ]
  },
  {
   "cell_type": "code",
   "execution_count": 63,
   "metadata": {},
   "outputs": [
    {
     "data": {
      "text/plain": [
       "array([[  0,   5,  15,  30,  50,  75, 105, 140, 180, 225]], dtype=int32)"
      ]
     },
     "execution_count": 63,
     "metadata": {},
     "output_type": "execute_result"
    }
   ],
   "source": [
    "\n",
    "np.add.accumulate(matrs,axis=1)"
   ]
  },
  {
   "cell_type": "markdown",
   "metadata": {},
   "source": [
    "soru 26: 0 ile 1 arasinda50 elamanli bir array olusturunuz ve;.orlamasini aliniz.a.standart sapmasini aliniz.b.varyansini aliniz.c.median’ini aliniz.d.en kucuk degeri bulunuz.e.en buyuk degeri bulunuz"
   ]
  },
  {
   "cell_type": "code",
   "execution_count": 47,
   "metadata": {},
   "outputs": [
    {
     "data": {
      "text/plain": [
       "array([0.        , 0.02040816, 0.04081633, 0.06122449, 0.08163265,\n",
       "       0.10204082, 0.12244898, 0.14285714, 0.16326531, 0.18367347,\n",
       "       0.20408163, 0.2244898 , 0.24489796, 0.26530612, 0.28571429,\n",
       "       0.30612245, 0.32653061, 0.34693878, 0.36734694, 0.3877551 ,\n",
       "       0.40816327, 0.42857143, 0.44897959, 0.46938776, 0.48979592,\n",
       "       0.51020408, 0.53061224, 0.55102041, 0.57142857, 0.59183673,\n",
       "       0.6122449 , 0.63265306, 0.65306122, 0.67346939, 0.69387755,\n",
       "       0.71428571, 0.73469388, 0.75510204, 0.7755102 , 0.79591837,\n",
       "       0.81632653, 0.83673469, 0.85714286, 0.87755102, 0.89795918,\n",
       "       0.91836735, 0.93877551, 0.95918367, 0.97959184, 1.        ])"
      ]
     },
     "execution_count": 47,
     "metadata": {},
     "output_type": "execute_result"
    }
   ],
   "source": [
    "np.linspace(-0,1,50) "
   ]
  },
  {
   "cell_type": "code",
   "execution_count": 48,
   "metadata": {},
   "outputs": [
    {
     "data": {
      "text/plain": [
       "22.5"
      ]
     },
     "execution_count": 48,
     "metadata": {},
     "output_type": "execute_result"
    }
   ],
   "source": [
    "np.mean(matrs)"
   ]
  },
  {
   "cell_type": "code",
   "execution_count": 50,
   "metadata": {},
   "outputs": [
    {
     "data": {
      "text/plain": [
       "14.361406616345072"
      ]
     },
     "execution_count": 50,
     "metadata": {},
     "output_type": "execute_result"
    }
   ],
   "source": [
    "np.std(matrs)"
   ]
  },
  {
   "cell_type": "code",
   "execution_count": 52,
   "metadata": {},
   "outputs": [
    {
     "data": {
      "text/plain": [
       "206.25"
      ]
     },
     "execution_count": 52,
     "metadata": {},
     "output_type": "execute_result"
    }
   ],
   "source": [
    "np.var(matrs)"
   ]
  },
  {
   "cell_type": "code",
   "execution_count": 53,
   "metadata": {},
   "outputs": [
    {
     "data": {
      "text/plain": [
       "22.5"
      ]
     },
     "execution_count": 53,
     "metadata": {},
     "output_type": "execute_result"
    }
   ],
   "source": [
    "np.median(matrs)"
   ]
  },
  {
   "cell_type": "code",
   "execution_count": 54,
   "metadata": {},
   "outputs": [
    {
     "data": {
      "text/plain": [
       "0"
      ]
     },
     "execution_count": 54,
     "metadata": {},
     "output_type": "execute_result"
    }
   ],
   "source": [
    "np.min(matrs)"
   ]
  },
  {
   "cell_type": "code",
   "execution_count": 55,
   "metadata": {},
   "outputs": [
    {
     "data": {
      "text/plain": [
       "45"
      ]
     },
     "execution_count": 55,
     "metadata": {},
     "output_type": "execute_result"
    }
   ],
   "source": [
    "np.max(matrs)"
   ]
  },
  {
   "cell_type": "code",
   "execution_count": null,
   "metadata": {},
   "outputs": [],
   "source": []
  }
 ],
 "metadata": {
  "kernelspec": {
   "display_name": "Python 3",
   "language": "python",
   "name": "python3"
  },
  "language_info": {
   "codemirror_mode": {
    "name": "ipython",
    "version": 3
   },
   "file_extension": ".py",
   "mimetype": "text/x-python",
   "name": "python",
   "nbconvert_exporter": "python",
   "pygments_lexer": "ipython3",
   "version": "3.7.4"
  }
 },
 "nbformat": 4,
 "nbformat_minor": 2
}
